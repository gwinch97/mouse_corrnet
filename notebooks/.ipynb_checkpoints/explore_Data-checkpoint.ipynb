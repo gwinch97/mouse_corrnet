{
 "cells": [
  {
   "cell_type": "code",
   "execution_count": null,
   "id": "170e8373238d7bcb",
   "metadata": {
    "collapsed": false,
    "is_executing": true
   },
   "outputs": [],
   "source": [
    "import numpy as np\n",
    "import matplotlib.pyplot as plt"
   ]
  },
  {
   "cell_type": "code",
   "outputs": [],
   "source": [
    "dff = np.load('../data/_ss_2pCalcium.dff.npy')\n",
    "intervals = np.load('../data/_ss_recordings.grayScreen_intervals.npy')[0]\n",
    "timestamps = np.load('../data/_ss_2pCalcium.timestamps.npy')\n",
    "ind_time = np.where((timestamps>intervals[0]) & (timestamps<intervals[1]))[0]\n",
    "my_activity = dff[ind_time,:]\n",
    "np.shape(my_activity)\n",
    "plt.plot(my_activity[0:1000,0:9])\n",
    "plt.show()"
   ],
   "metadata": {
    "collapsed": true,
    "is_executing": true
   },
   "id": "initial_id",
   "execution_count": null
  },
  {
   "cell_type": "code",
   "outputs": [],
   "source": [],
   "metadata": {
    "collapsed": false
   },
   "id": "dc6dd7a50487b753"
  }
 ],
 "metadata": {
  "kernelspec": {
   "name": "venv",
   "language": "python",
   "display_name": "Python (.venv)"
  },
  "language_info": {
   "codemirror_mode": {
    "name": "ipython",
    "version": 2
   },
   "file_extension": ".py",
   "mimetype": "text/x-python",
   "name": "python",
   "nbconvert_exporter": "python",
   "pygments_lexer": "ipython2",
   "version": "2.7.6"
  }
 },
 "nbformat": 4,
 "nbformat_minor": 5
}
